{
  "nbformat": 4,
  "nbformat_minor": 0,
  "metadata": {
    "colab": {
      "name": "Basic tongue image processing.ipynb",
      "provenance": [],
      "authorship_tag": "ABX9TyNBh2n5TU9Qj1TpxpgjzHaZ",
      "include_colab_link": true
    },
    "kernelspec": {
      "name": "python3",
      "display_name": "Python 3"
    },
    "language_info": {
      "name": "python"
    }
  },
  "cells": [
    {
      "cell_type": "markdown",
      "metadata": {
        "id": "view-in-github",
        "colab_type": "text"
      },
      "source": [
        "<a href=\"https://colab.research.google.com/github/jyotidabass/Basic-Tongue-image-processing/blob/main/Basic_tongue_image_processing.ipynb\" target=\"_parent\"><img src=\"https://colab.research.google.com/assets/colab-badge.svg\" alt=\"Open In Colab\"/></a>"
      ]
    },
    {
      "cell_type": "code",
      "execution_count": 10,
      "metadata": {
        "colab": {
          "base_uri": "https://localhost:8080/"
        },
        "id": "kHxNLpUjVTEI",
        "outputId": "d5a83c94-c53f-4ee5-c934-e0e71e1f9e3c"
      },
      "outputs": [
        {
          "output_type": "stream",
          "name": "stdout",
          "text": [
            "--------IMAGE ENHANCEMENT TECHNIQUE----------\n",
            "---------------------------------------------\n",
            "--------INITIALIZED IMAGE PROCESSING---------\n",
            "--------IMAGE PROCESSING COMPLETED-----------\n"
          ]
        }
      ],
      "source": [
        "import os\n",
        "import cv2\n",
        "from scipy import ndimage\n",
        "\n",
        "PATH = '/content/sample_data/DATA'\n",
        "RESULTS = '/content/sample_data/RESULTS'\n",
        "\n",
        "\"\"\"\n",
        "# Removes noise and improves image quality.\n",
        "\"\"\"\n",
        "def enhanceImage(path):\n",
        "\n",
        "\tfor filename in os.listdir(path):\n",
        "\n",
        "\t\ttry:\n",
        "\t\t\timage = cv2.imread(path+filename)\n",
        "\t\t\tif image is not None:\n",
        "\t\t\t\t# Convert image to gray scale\n",
        "\t\t\t\tgray_image = cv2.cvtColor(image, cv2.COLOR_BGR2GRAY)\n",
        "\n",
        "\t\t\t\t# Non-Linear filter for noise removal\n",
        "\t\t\t\tdeNoised = ndimage.median_filter(gray_image, 3)\n",
        "\t\t\t\t#Histogram Equalizer\n",
        "\t\t\t\t#High pass filter for improving the contrast of the image\n",
        "\t\t\t\tclahe = cv2.createCLAHE(clipLimit=2.0, tileGridSize=(8,8))\n",
        "\t\t\t\thighPass = clahe.apply(deNoised)\n",
        "\n",
        "\t\t\t\t#Gamma Transformation\n",
        "\t\t\t\t#Prevent bleaching or darkening of images\n",
        "\t\t\t\tgamma = highPass/255.0\n",
        "\t\t\t\tgammaFilter = cv2.pow(gamma,1.5)\n",
        "\t\t\t\tgammaFilter = gammaFilter * 255\n",
        "\n",
        "\t\t\t\tcv2.imwrite(RESULTS+filename,gammaFilter)\n",
        "\n",
        "\t\texcept:\n",
        "\t\t    print('Image not found')\n",
        "\n",
        "\n",
        "\n",
        "print(\"--------IMAGE ENHANCEMENT TECHNIQUE----------\")\n",
        "print(\"---------------------------------------------\")\n",
        "print(\"--------INITIALIZED IMAGE PROCESSING---------\")\n",
        "# Enhance Image Quality\n",
        "enhanceImage(path=PATH)\n",
        "print(\"--------IMAGE PROCESSING COMPLETED-----------\")"
      ]
    }
  ]
}